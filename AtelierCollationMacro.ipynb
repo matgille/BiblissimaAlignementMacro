{
 "cells": [
  {
   "cell_type": "code",
   "execution_count": 8,
   "metadata": {},
   "outputs": [
    {
     "name": "stdout",
     "output_type": "stream",
     "text": [
      "Defaulting to user installation because normal site-packages is not writeable\n",
      "Requirement already satisfied: collatex in /home/mgl/.local/lib/python3.7/site-packages (2.2)\n",
      "Requirement already satisfied: levenshtein in /home/mgl/.local/lib/python3.7/site-packages (0.23.0)\n",
      "Requirement already satisfied: networkx in /home/mgl/.local/lib/python3.7/site-packages (from collatex) (2.5)\n",
      "Requirement already satisfied: prettytable in /home/mgl/.local/lib/python3.7/site-packages (from collatex) (2.1.0)\n",
      "Requirement already satisfied: rapidfuzz<4.0.0,>=3.1.0 in /home/mgl/.local/lib/python3.7/site-packages (from levenshtein) (3.4.0)\n",
      "Requirement already satisfied: decorator>=4.3.0 in /home/mgl/.local/lib/python3.7/site-packages (from networkx->collatex) (4.4.2)\n",
      "Requirement already satisfied: wcwidth in /home/mgl/.local/lib/python3.7/site-packages (from prettytable->collatex) (0.2.5)\n",
      "Requirement already satisfied: importlib-metadata in /home/mgl/.local/lib/python3.7/site-packages (from prettytable->collatex) (4.10.1)\n",
      "Requirement already satisfied: zipp>=0.5 in /home/mgl/.local/lib/python3.7/site-packages (from importlib-metadata->prettytable->collatex) (3.4.0)\n",
      "Requirement already satisfied: typing-extensions>=3.6.4 in /home/mgl/.local/lib/python3.7/site-packages (from importlib-metadata->prettytable->collatex) (3.7.4.3)\n",
      "\u001b[33mDEPRECATION: celery 5.1.2 has a non-standard dependency specifier pytz>dev. pip 23.3 will enforce this behaviour change. A possible replacement is to upgrade to a newer version of celery or contact the author to suggest that they release a version with a conforming dependency specifiers. Discussion can be found at https://github.com/pypa/pip/issues/12063\u001b[0m\u001b[33m\n",
      "\u001b[0m\n",
      "\u001b[1m[\u001b[0m\u001b[34;49mnotice\u001b[0m\u001b[1;39;49m]\u001b[0m\u001b[39;49m A new release of pip is available: \u001b[0m\u001b[31;49m23.2.1\u001b[0m\u001b[39;49m -> \u001b[0m\u001b[32;49m23.3.1\u001b[0m\n",
      "\u001b[1m[\u001b[0m\u001b[34;49mnotice\u001b[0m\u001b[1;39;49m]\u001b[0m\u001b[39;49m To update, run: \u001b[0m\u001b[32;49mpython3 -m pip install --upgrade pip\u001b[0m\n"
     ]
    }
   ],
   "source": [
    "!pip install collatex levenshtein lxml\n"
   ]
  },
  {
   "cell_type": "code",
   "execution_count": 9,
   "metadata": {},
   "outputs": [
    {
     "ename": "ModuleNotFoundError",
     "evalue": "No module named 'collatex'",
     "output_type": "error",
     "traceback": [
      "\u001b[0;31m---------------------------------------------------------------------------\u001b[0m",
      "\u001b[0;31mModuleNotFoundError\u001b[0m                       Traceback (most recent call last)",
      "\u001b[0;32m/tmp/ipykernel_6769/754038507.py\u001b[0m in \u001b[0;36m<module>\u001b[0;34m\u001b[0m\n\u001b[1;32m      1\u001b[0m \u001b[0;32mimport\u001b[0m \u001b[0msys\u001b[0m\u001b[0;34m\u001b[0m\u001b[0;34m\u001b[0m\u001b[0m\n\u001b[1;32m      2\u001b[0m \u001b[0msys\u001b[0m\u001b[0;34m.\u001b[0m\u001b[0mpath\u001b[0m\u001b[0;34m.\u001b[0m\u001b[0minsert\u001b[0m\u001b[0;34m(\u001b[0m\u001b[0;36m1\u001b[0m\u001b[0;34m,\u001b[0m \u001b[0;34m'app/'\u001b[0m\u001b[0;34m)\u001b[0m\u001b[0;34m\u001b[0m\u001b[0;34m\u001b[0m\u001b[0m\n\u001b[0;32m----> 3\u001b[0;31m \u001b[0;32mimport\u001b[0m \u001b[0malign\u001b[0m\u001b[0;34m\u001b[0m\u001b[0;34m\u001b[0m\u001b[0m\n\u001b[0m",
      "\u001b[0;32m~/Bureau/Travail/projets/alignement/BiblissimaAlignementMacro/app/align.py\u001b[0m in \u001b[0;36m<module>\u001b[0;34m\u001b[0m\n\u001b[1;32m      7\u001b[0m \u001b[0;32mimport\u001b[0m \u001b[0mtraceback\u001b[0m\u001b[0;34m\u001b[0m\u001b[0;34m\u001b[0m\u001b[0m\n\u001b[1;32m      8\u001b[0m \u001b[0;32mimport\u001b[0m \u001b[0mdatetime\u001b[0m\u001b[0;34m\u001b[0m\u001b[0;34m\u001b[0m\u001b[0m\n\u001b[0;32m----> 9\u001b[0;31m \u001b[0;32mimport\u001b[0m \u001b[0mcollatex\u001b[0m\u001b[0;34m\u001b[0m\u001b[0;34m\u001b[0m\u001b[0m\n\u001b[0m\u001b[1;32m     10\u001b[0m \u001b[0;32mimport\u001b[0m \u001b[0mlxml\u001b[0m\u001b[0;34m.\u001b[0m\u001b[0metree\u001b[0m \u001b[0;32mas\u001b[0m \u001b[0mET\u001b[0m\u001b[0;34m\u001b[0m\u001b[0;34m\u001b[0m\u001b[0m\n\u001b[1;32m     11\u001b[0m \u001b[0;34m\u001b[0m\u001b[0m\n",
      "\u001b[0;31mModuleNotFoundError\u001b[0m: No module named 'collatex'"
     ]
    }
   ],
   "source": [
    "import sys\n",
    "sys.path.insert(1, 'app/')\n",
    "import align\n"
   ]
  },
  {
   "cell_type": "code",
   "execution_count": 12,
   "metadata": {},
   "outputs": [
    {
     "ename": "NameError",
     "evalue": "name 'align' is not defined",
     "output_type": "error",
     "traceback": [
      "\u001b[0;31m---------------------------------------------------------------------------\u001b[0m",
      "\u001b[0;31mNameError\u001b[0m                                 Traceback (most recent call last)",
      "\u001b[0;32m/tmp/ipykernel_6769/847421302.py\u001b[0m in \u001b[0;36m<module>\u001b[0;34m\u001b[0m\n\u001b[1;32m      1\u001b[0m \u001b[0;31m# On crée l'objet \"\"Aligneur\u001b[0m\u001b[0;34m\u001b[0m\u001b[0;34m\u001b[0m\u001b[0;34m\u001b[0m\u001b[0m\n\u001b[0;32m----> 2\u001b[0;31m Aligner = align.Aligner(\n\u001b[0m\u001b[1;32m      3\u001b[0m     \u001b[0mtarget_path\u001b[0m\u001b[0;34m=\u001b[0m\u001b[0;34m\"data/files_no_structure\"\u001b[0m\u001b[0;34m\u001b[0m\u001b[0;34m\u001b[0m\u001b[0m\n\u001b[1;32m      4\u001b[0m                 \u001b[0;34m\"/Mad_B.xml\"\u001b[0m\u001b[0;34m,\u001b[0m\u001b[0;34m\u001b[0m\u001b[0;34m\u001b[0m\u001b[0m\n\u001b[1;32m      5\u001b[0m     \u001b[0msource_file\u001b[0m\u001b[0;34m=\u001b[0m\u001b[0;34m\"data/Source/Sal_J.xml\"\u001b[0m\u001b[0;34m,\u001b[0m\u001b[0;34m\u001b[0m\u001b[0;34m\u001b[0m\u001b[0m\n",
      "\u001b[0;31mNameError\u001b[0m: name 'align' is not defined"
     ]
    }
   ],
   "source": [
    "# On crée l'objet Aligneur\n",
    "Aligner = align.Aligner(\n",
    "    target_path=\"data/files_no_structure\"\n",
    "                \"/Mad_B.xml\",\n",
    "    source_file=\"data/Source/Sal_J.xml\",\n",
    "    output_files_prefix=\"_structured\")"
   ]
  },
  {
   "cell_type": "code",
   "execution_count": 11,
   "metadata": {},
   "outputs": [
    {
     "ename": "NameError",
     "evalue": "name 'align' is not defined",
     "output_type": "error",
     "traceback": [
      "\u001b[0;31m---------------------------------------------------------------------------\u001b[0m",
      "\u001b[0;31mNameError\u001b[0m                                 Traceback (most recent call last)",
      "\u001b[0;32m/tmp/ipykernel_6769/2580697878.py\u001b[0m in \u001b[0;36m<module>\u001b[0;34m\u001b[0m\n\u001b[1;32m     13\u001b[0m \u001b[0;31m# example_query_4 = \"child::node()[self::tei:p]\"\u001b[0m\u001b[0;34m\u001b[0m\u001b[0;34m\u001b[0m\u001b[0;34m\u001b[0m\u001b[0m\n\u001b[1;32m     14\u001b[0m \u001b[0;34m\u001b[0m\u001b[0m\n\u001b[0;32m---> 15\u001b[0;31m Aligner = align.Aligner(\n\u001b[0m\u001b[1;32m     16\u001b[0m     \u001b[0mtarget_path\u001b[0m\u001b[0;34m=\u001b[0m\u001b[0;34m\"data/files_no_structure\"\u001b[0m\u001b[0;34m\u001b[0m\u001b[0;34m\u001b[0m\u001b[0m\n\u001b[1;32m     17\u001b[0m                 \u001b[0;34m\"/Mad_B.xml\"\u001b[0m\u001b[0;34m,\u001b[0m\u001b[0;34m\u001b[0m\u001b[0;34m\u001b[0m\u001b[0m\n",
      "\u001b[0;31mNameError\u001b[0m: name 'align' is not defined"
     ]
    }
   ],
   "source": [
    "\n",
    "# Le contexte correspond à la première boucle (le parent des divisions à identifier)\n",
    "context_query_1 = \"//tei:div[@type='partie']\"\n",
    "# La structure à identifier et à reporter sur tous les témoins\n",
    "example_query_1 = \"//tei:div[@type='chapitre']\"\n",
    "\n",
    "# On lance la fonction d'alignement. La proportion correspond à la fenêtre de collation, \n",
    "# qui pourra varier en fonction du type de structure à identifier.\n",
    "Aligner.align(query=example_query_1, context=context_query_1, text_proportion=.20)\n",
    "\n"
   ]
  },
  {
   "cell_type": "code",
   "execution_count": null,
   "metadata": {},
   "outputs": [],
   "source": [
    "# On continue en s'appuyant sur la structuration antérieure\n",
    "example_query_2 = \"child::node()[self::tei:head or self::tei:div]\"\n",
    "Aligner.align(query=example_query_2, context=example_query_1, text_proportion=.20)"
   ]
  },
  {
   "cell_type": "code",
   "execution_count": null,
   "metadata": {},
   "outputs": [],
   "source": [
    "# Le premier chapitre est difficile à structurer, on doit donc passer au chapitre suivant.\n",
    "context_query_3 = \"//tei:div[@type='chapitre'][number(@n) > 1]/child::tei:div[@type='glose']\"\n",
    "example_query_3 = \"child::node()[self::tei:p]\"\n",
    "Aligner.align(query=example_query_3, context=context_query_3, text_proportion=.20)"
   ]
  }
 ],
 "metadata": {
  "kernelspec": {
   "display_name": "venv_2",
   "language": "python",
   "name": "venv_2"
  },
  "language_info": {
   "codemirror_mode": {
    "name": "ipython",
    "version": 3
   },
   "file_extension": ".py",
   "mimetype": "text/x-python",
   "name": "python",
   "nbconvert_exporter": "python",
   "pygments_lexer": "ipython3",
   "version": "3.7.3"
  }
 },
 "nbformat": 4,
 "nbformat_minor": 2
}
