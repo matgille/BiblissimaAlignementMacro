{
 "cells": [
  {
   "cell_type": "code",
   "execution_count": null,
   "metadata": {},
   "outputs": [],
   "source": [
    "!pip install collatex levenshtein lxml\n"
   ]
  },
  {
   "cell_type": "code",
   "execution_count": null,
   "metadata": {},
   "outputs": [],
   "source": [
    "import sys\n",
    "sys.path.insert(1, 'app/')\n",
    "import align\n"
   ]
  },
  {
   "cell_type": "code",
   "execution_count": null,
   "metadata": {},
   "outputs": [],
   "source": [
    "# On crée l'objet Aligneur\n",
    "Aligner = align.Aligner(\n",
    "    target_path=\"data/files_no_structure\"\n",
    "                \"/Mad_B.xml\",\n",
    "    source_file=\"data/Source/Sal_J.xml\",\n",
    "    output_files_prefix=\"_chapters\")"
   ]
  },
  {
   "cell_type": "code",
   "execution_count": null,
   "metadata": {},
   "outputs": [],
   "source": [
    "# Le contexte correspond à la première boucle (le parent des divisions à identifier)\n",
    "context_query_1 = \"//tei:div[@type='partie']\"\n",
    "# La structure à identifier et à reporter sur tous les témoins\n",
    "example_query_1 = \"//tei:div[@type='chapitre']\"\n",
    "\n",
    "# On lance la fonction d'alignement. La proportion correspond à la fenêtre de collation, \n",
    "# qui pourra varier en fonction du type de structure à identifier.\n",
    "Aligner.align(query=example_query_1, context=context_query_1, text_proportion=.20)"
   ]
  },
  {
   "cell_type": "markdown",
   "metadata": {},
   "source": [
    "Les résultats sont dans `data/results/Mad_B_chapters.xml`. Il est recommandé de télécharger le fichier et de l'ouvrir avec le navigateur pour le parcourir plus facilement.\n",
    "\n",
    "La structuration a fonctionné jusqu'au chapitre 17, dans lequel on note un déplacement de texte (suppression d'une large portion de texte)\n"
   ]
  },
  {
   "cell_type": "code",
   "execution_count": null,
   "metadata": {},
   "outputs": [],
   "source": [
    "# On crée un autre objet Aligneur qui vient prendre le fichier précédent\n",
    "Aligner = align.Aligner(\n",
    "    target_path=\"data/results/\"\n",
    "                \"/Mad_B_chapters.xml\",\n",
    "    source_file=\"data/Source/Sal_J.xml\",\n",
    "    output_files_prefix=\"_subchapters\")\n",
    "# On continue en s'appuyant sur la structuration antérieure\n",
    "example_query_2 = \"child::node()[self::tei:head or self::tei:div]\"\n",
    "Aligner.align(query=example_query_2, context=example_query_1, text_proportion=.20)"
   ]
  },
  {
   "cell_type": "markdown",
   "metadata": {},
   "source": []
  },
  {
   "cell_type": "code",
   "execution_count": null,
   "metadata": {},
   "outputs": [],
   "source": []
  }
 ],
 "metadata": {
  "kernelspec": {
   "display_name": "venv_2",
   "language": "python",
   "name": "venv_2"
  },
  "language_info": {
   "codemirror_mode": {
    "name": "ipython",
    "version": 3
   },
   "file_extension": ".py",
   "mimetype": "text/x-python",
   "name": "python",
   "nbconvert_exporter": "python",
   "pygments_lexer": "ipython3",
   "version": "3.7.3"
  }
 },
 "nbformat": 4,
 "nbformat_minor": 2
}
